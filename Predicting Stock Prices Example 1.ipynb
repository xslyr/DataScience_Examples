{
 "cells": [
  {
   "cell_type": "code",
   "execution_count": 179,
   "id": "0e6ca0b8",
   "metadata": {
    "scrolled": true
   },
   "outputs": [],
   "source": [
    "import numpy as np\n",
    "import matplotlib.pyplot as plt\n",
    "import pandas as pd\n",
    "import pandas_datareader as web\n",
    "import datetime as dt\n",
    "\n",
    "from sklearn.preprocessing import MinMaxScaler\n",
    "from tensorflow.keras.models import Sequential\n",
    "from tensorflow.keras.layers import Dense, Dropout, LSTM"
   ]
  },
  {
   "cell_type": "code",
   "execution_count": 180,
   "id": "de5b93f8",
   "metadata": {},
   "outputs": [],
   "source": [
    "company='PETR4.SA'\n",
    "start = dt.datetime(2015,1,1)\n",
    "end = dt.datetime(2021,1,1)"
   ]
  },
  {
   "cell_type": "code",
   "execution_count": 181,
   "id": "3e1ee55f",
   "metadata": {},
   "outputs": [],
   "source": [
    "data = web.DataReader(company,'yahoo',start,end)"
   ]
  },
  {
   "cell_type": "code",
   "execution_count": 182,
   "id": "7a43eaeb",
   "metadata": {},
   "outputs": [],
   "source": [
    "scaler = MinMaxScaler(feature_range=(0,1))\n",
    "scaled_data = scaler.fit_transform(data['Close'].values.reshape(-1,1))"
   ]
  },
  {
   "cell_type": "code",
   "execution_count": 183,
   "id": "ffac4393",
   "metadata": {},
   "outputs": [],
   "source": [
    "prediction_days = 60\n",
    "x_train = []\n",
    "y_train = []"
   ]
  },
  {
   "cell_type": "code",
   "execution_count": 184,
   "id": "c76f1f73",
   "metadata": {},
   "outputs": [],
   "source": [
    "for x in range(prediction_days, len(scaled_data)):\n",
    "    x_train.append(scaled_data[x-prediction_days:x,0])\n",
    "    y_train.append(scaled_data[x,0])"
   ]
  },
  {
   "cell_type": "code",
   "execution_count": 185,
   "id": "261df630",
   "metadata": {},
   "outputs": [],
   "source": [
    "x_train, y_train = np.array(x_train), np.array(y_train)\n",
    "x_train = np.reshape(x_train, (x_train.shape[0], x_train.shape[1],1))"
   ]
  },
  {
   "cell_type": "code",
   "execution_count": 186,
   "id": "edeb35f9",
   "metadata": {},
   "outputs": [],
   "source": [
    "model = Sequential()"
   ]
  },
  {
   "cell_type": "code",
   "execution_count": 187,
   "id": "d510de89",
   "metadata": {},
   "outputs": [],
   "source": [
    "model.add(LSTM(units=50, return_sequences=True, input_shape=(x_train.shape[1],1)))\n",
    "model.add(Dropout(0.2))\n",
    "model.add(LSTM(units=50, return_sequences=True))\n",
    "model.add(Dropout(0.2))\n",
    "model.add(LSTM(units=50))\n",
    "model.add(Dropout(0.2))\n",
    "model.add(Dense(units=1))"
   ]
  },
  {
   "cell_type": "code",
   "execution_count": 188,
   "id": "57a8ef0d",
   "metadata": {},
   "outputs": [],
   "source": [
    "model.compile(optimizer='adam',loss='mean_squared_error')"
   ]
  },
  {
   "cell_type": "code",
   "execution_count": 189,
   "id": "de6527c3",
   "metadata": {},
   "outputs": [
    {
     "name": "stdout",
     "output_type": "stream",
     "text": [
      "Epoch 1/25\n",
      "45/45 [==============================] - 8s 75ms/step - loss: 0.0377\n",
      "Epoch 2/25\n",
      "45/45 [==============================] - 3s 75ms/step - loss: 0.0081\n",
      "Epoch 3/25\n",
      "45/45 [==============================] - 3s 74ms/step - loss: 0.0075\n",
      "Epoch 4/25\n",
      "45/45 [==============================] - 3s 74ms/step - loss: 0.0077\n",
      "Epoch 5/25\n",
      "45/45 [==============================] - 3s 74ms/step - loss: 0.0062\n",
      "Epoch 6/25\n",
      "45/45 [==============================] - 3s 75ms/step - loss: 0.0060\n",
      "Epoch 7/25\n",
      "45/45 [==============================] - 4s 85ms/step - loss: 0.0056\n",
      "Epoch 8/25\n",
      "45/45 [==============================] - 4s 81ms/step - loss: 0.0060\n",
      "Epoch 9/25\n",
      "45/45 [==============================] - 4s 81ms/step - loss: 0.0056\n",
      "Epoch 10/25\n",
      "45/45 [==============================] - 3s 76ms/step - loss: 0.0051\n",
      "Epoch 11/25\n",
      "45/45 [==============================] - 3s 75ms/step - loss: 0.0047\n",
      "Epoch 12/25\n",
      "45/45 [==============================] - 3s 75ms/step - loss: 0.0041\n",
      "Epoch 13/25\n",
      "45/45 [==============================] - 3s 76ms/step - loss: 0.0038\n",
      "Epoch 14/25\n",
      "45/45 [==============================] - 3s 75ms/step - loss: 0.0043\n",
      "Epoch 15/25\n",
      "45/45 [==============================] - 3s 76ms/step - loss: 0.0040\n",
      "Epoch 16/25\n",
      "45/45 [==============================] - 4s 80ms/step - loss: 0.0039\n",
      "Epoch 17/25\n",
      "45/45 [==============================] - 3s 75ms/step - loss: 0.0039\n",
      "Epoch 18/25\n",
      "45/45 [==============================] - 3s 76ms/step - loss: 0.0044\n",
      "Epoch 19/25\n",
      "45/45 [==============================] - 3s 77ms/step - loss: 0.0037\n",
      "Epoch 20/25\n",
      "45/45 [==============================] - 3s 76ms/step - loss: 0.0032\n",
      "Epoch 21/25\n",
      "45/45 [==============================] - 3s 76ms/step - loss: 0.0038\n",
      "Epoch 22/25\n",
      "45/45 [==============================] - 3s 75ms/step - loss: 0.0036\n",
      "Epoch 23/25\n",
      "45/45 [==============================] - 3s 75ms/step - loss: 0.0035\n",
      "Epoch 24/25\n",
      "45/45 [==============================] - 3s 75ms/step - loss: 0.0032\n",
      "Epoch 25/25\n",
      "45/45 [==============================] - 3s 75ms/step - loss: 0.0031\n"
     ]
    },
    {
     "data": {
      "text/plain": [
       "<tensorflow.python.keras.callbacks.History at 0x7f913a5eaac8>"
      ]
     },
     "execution_count": 189,
     "metadata": {},
     "output_type": "execute_result"
    }
   ],
   "source": [
    "model.fit(x_train, y_train, epochs=25, batch_size=32)"
   ]
  },
  {
   "cell_type": "code",
   "execution_count": 190,
   "id": "5298f6c9",
   "metadata": {},
   "outputs": [],
   "source": [
    "test_start = dt.datetime(2021,1,1)\n",
    "test_end = dt.datetime.now()\n",
    "test_data = web.DataReader(company,'yahoo',test_start,test_end)"
   ]
  },
  {
   "cell_type": "code",
   "execution_count": 191,
   "id": "c5f18942",
   "metadata": {},
   "outputs": [],
   "source": [
    "actual_prices = test_data['Close'].values\n",
    "total_dataset = pd.concat((data['Close'], test_data['Close']),axis=0)"
   ]
  },
  {
   "cell_type": "code",
   "execution_count": 192,
   "id": "8ef8058a",
   "metadata": {},
   "outputs": [],
   "source": [
    "model_inputs = total_dataset[len(total_dataset)-len(test_data) - prediction_days:].values\n",
    "model_inputs = model_inputs.reshape(-1,1) \n",
    "model_inputs = scaler.transform(model_inputs)"
   ]
  },
  {
   "cell_type": "code",
   "execution_count": 193,
   "id": "a88adbc4",
   "metadata": {},
   "outputs": [],
   "source": [
    "x_test = []\n",
    "for x in range(prediction_days, len(model_inputs)):\n",
    "    x_test.append(model_inputs[x-prediction_days:x,0])"
   ]
  },
  {
   "cell_type": "code",
   "execution_count": 194,
   "id": "fab5fc26",
   "metadata": {},
   "outputs": [],
   "source": [
    "x_test = np.array(x_test)\n",
    "x_test = np.reshape(x_test, (x_test.shape[0], x_test.shape[1],1))"
   ]
  },
  {
   "cell_type": "code",
   "execution_count": 195,
   "id": "ef5bf71a",
   "metadata": {},
   "outputs": [],
   "source": [
    "predicted_prices = model.predict(x_test)\n",
    "predicted_prices = scaler.inverse_transform(predicted_prices)"
   ]
  },
  {
   "cell_type": "code",
   "execution_count": 196,
   "id": "1bf639a3",
   "metadata": {
    "scrolled": true
   },
   "outputs": [
    {
     "data": {
      "image/png": "[encoded data removed]",
      "text/plain": [
       "<Figure size 432x288 with 1 Axes>"
      ]
     },
     "metadata": {
      "needs_background": "light"
     },
     "output_type": "display_data"
    }
   ],
   "source": [
    "plt.plot(actual_prices, color='black', label=f'Actual {company} Prices')\n",
    "plt.plot(predicted_prices, color='green', label=f'Predicted {company} Prices')\n",
    "plt.title(f'{company} Share Price')\n",
    "plt.xlabel('Time')\n",
    "plt.ylabel(f'{company} Share Price')\n",
    "plt.legend()\n",
    "plt.show()"
   ]
  },
  {
   "cell_type": "code",
   "execution_count": 197,
   "id": "3b1cfba5",
   "metadata": {},
   "outputs": [],
   "source": [
    "real_data = [model_inputs[len(model_inputs)+1 -prediction_days: len(model_inputs+1), 0]]\n",
    "real_data = np.array(real_data)\n",
    "real_data = np.reshape(real_data, (real_data.shape[0], real_data.shape[1],1))"
   ]
  },
  {
   "cell_type": "code",
   "execution_count": 198,
   "id": "9b21cace",
   "metadata": {},
   "outputs": [
    {
     "name": "stdout",
     "output_type": "stream",
     "text": [
      "WARNING:tensorflow:Model was constructed with shape (None, 60, 1) for input KerasTensor(type_spec=TensorSpec(shape=(None, 60, 1), dtype=tf.float32, name='lstm_25_input'), name='lstm_25_input', description=\"created by layer 'lstm_25_input'\"), but it was called on an input with incompatible shape (None, 59, 1).\n"
     ]
    }
   ],
   "source": [
    "prediction = model.predict(real_data)\n",
    "prediction = scaler.inverse_transform(prediction)"
   ]
  },
  {
   "cell_type": "code",
   "execution_count": 199,
   "id": "c6b34d62",
   "metadata": {},
   "outputs": [
    {
     "name": "stdout",
     "output_type": "stream",
     "text": [
      "The last price was registered at 11/06/2021 is R$28.57 and the price prediction for next day is R$28.27\n"
     ]
    }
   ],
   "source": [
    "print('The last price was registered at {} is R${:.2f} and the price prediction for next day is R${:.2f}'.format(test_data.iloc[-1,:].name.strftime('%d/%m/%Y'),test_data['Close'][-1],prediction[0][0]))"
   ]
  }
 ],
 "metadata": {
  "kernelspec": {
   "display_name": "Python 3",
   "language": "python",
   "name": "python3"
  },
  "language_info": {
   "codemirror_mode": {
    "name": "ipython",
    "version": 3
   },
   "file_extension": ".py",
   "mimetype": "text/x-python",
   "name": "python",
   "nbconvert_exporter": "python",
   "pygments_lexer": "ipython3",
   "version": "3.6.9"
  }
 },
 "nbformat": 4,
 "nbformat_minor": 5
}
