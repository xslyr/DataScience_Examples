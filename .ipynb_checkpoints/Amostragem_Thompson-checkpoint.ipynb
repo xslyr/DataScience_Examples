{
 "cells": [
  {
   "cell_type": "markdown",
   "id": "33fd3dda",
   "metadata": {},
   "source": [
    "# Thompson Sampling Algorithm:"
   ]
  },
  {
   "cell_type": "markdown",
   "id": "34de33bc",
   "metadata": {},
   "source": [
    "#### A leitura de cada linha representa uma rodada de apresentação de cada 1 dos anúncios.\n",
    "#### A cada rodada verifica-se a betavariacao de todos anúncios para então decidir o que está performando melhor. \n",
    "#### No início os sorteios serão aleatórios pois as matrizes Ⲁ e β estão vazias, porém a cada a medida que as rodadas vão acontecendo, as matrizes Ⲁ e β parâmetros da distribuição beta vão se preenchendo, tal qual essa beta variação irá nos trazer a melhor opção .\n",
    "## \n",
    "#### Para mais detalhes sobre o algoritmo, consulte : https://ao.wikiqube.net/wiki/Thompson_sampling\n",
    "## "
   ]
  },
  {
   "cell_type": "markdown",
   "id": "99d8f5fa",
   "metadata": {},
   "source": [
    "---------------------"
   ]
  },
  {
   "cell_type": "code",
   "execution_count": 1,
   "id": "966de4ba",
   "metadata": {},
   "outputs": [],
   "source": [
    "import pandas, random\n",
    "import matplotlib.pyplot as plt"
   ]
  },
  {
   "cell_type": "markdown",
   "id": "f5e899bb",
   "metadata": {},
   "source": [
    "Carregando nossa base de rodadas de anúncios e visualizando o formato da amostragem"
   ]
  },
  {
   "cell_type": "code",
   "execution_count": 2,
   "id": "596e035d",
   "metadata": {
    "scrolled": false
   },
   "outputs": [
    {
     "data": {
      "text/html": [
       "<div>\n",
       "<style scoped>\n",
       "    .dataframe tbody tr th:only-of-type {\n",
       "        vertical-align: middle;\n",
       "    }\n",
       "\n",
       "    .dataframe tbody tr th {\n",
       "        vertical-align: top;\n",
       "    }\n",
       "\n",
       "    .dataframe thead th {\n",
       "        text-align: right;\n",
       "    }\n",
       "</style>\n",
       "<table border=\"1\" class=\"dataframe\">\n",
       "  <thead>\n",
       "    <tr style=\"text-align: right;\">\n",
       "      <th></th>\n",
       "      <th>Ad 1</th>\n",
       "      <th>Ad 2</th>\n",
       "      <th>Ad 3</th>\n",
       "      <th>Ad 4</th>\n",
       "      <th>Ad 5</th>\n",
       "      <th>Ad 6</th>\n",
       "      <th>Ad 7</th>\n",
       "      <th>Ad 8</th>\n",
       "      <th>Ad 9</th>\n",
       "      <th>Ad 10</th>\n",
       "    </tr>\n",
       "  </thead>\n",
       "  <tbody>\n",
       "    <tr>\n",
       "      <th>0</th>\n",
       "      <td>1</td>\n",
       "      <td>0</td>\n",
       "      <td>0</td>\n",
       "      <td>0</td>\n",
       "      <td>1</td>\n",
       "      <td>0</td>\n",
       "      <td>0</td>\n",
       "      <td>0</td>\n",
       "      <td>1</td>\n",
       "      <td>0</td>\n",
       "    </tr>\n",
       "    <tr>\n",
       "      <th>1</th>\n",
       "      <td>0</td>\n",
       "      <td>0</td>\n",
       "      <td>0</td>\n",
       "      <td>0</td>\n",
       "      <td>0</td>\n",
       "      <td>0</td>\n",
       "      <td>0</td>\n",
       "      <td>0</td>\n",
       "      <td>1</td>\n",
       "      <td>0</td>\n",
       "    </tr>\n",
       "    <tr>\n",
       "      <th>2</th>\n",
       "      <td>0</td>\n",
       "      <td>0</td>\n",
       "      <td>0</td>\n",
       "      <td>0</td>\n",
       "      <td>0</td>\n",
       "      <td>0</td>\n",
       "      <td>0</td>\n",
       "      <td>0</td>\n",
       "      <td>0</td>\n",
       "      <td>0</td>\n",
       "    </tr>\n",
       "    <tr>\n",
       "      <th>3</th>\n",
       "      <td>0</td>\n",
       "      <td>1</td>\n",
       "      <td>0</td>\n",
       "      <td>0</td>\n",
       "      <td>0</td>\n",
       "      <td>0</td>\n",
       "      <td>0</td>\n",
       "      <td>1</td>\n",
       "      <td>0</td>\n",
       "      <td>0</td>\n",
       "    </tr>\n",
       "    <tr>\n",
       "      <th>4</th>\n",
       "      <td>0</td>\n",
       "      <td>0</td>\n",
       "      <td>0</td>\n",
       "      <td>0</td>\n",
       "      <td>0</td>\n",
       "      <td>0</td>\n",
       "      <td>0</td>\n",
       "      <td>0</td>\n",
       "      <td>0</td>\n",
       "      <td>0</td>\n",
       "    </tr>\n",
       "  </tbody>\n",
       "</table>\n",
       "</div>"
      ],
      "text/plain": [
       "   Ad 1  Ad 2  Ad 3  Ad 4  Ad 5  Ad 6  Ad 7  Ad 8  Ad 9  Ad 10\n",
       "0     1     0     0     0     1     0     0     0     1      0\n",
       "1     0     0     0     0     0     0     0     0     1      0\n",
       "2     0     0     0     0     0     0     0     0     0      0\n",
       "3     0     1     0     0     0     0     0     1     0      0\n",
       "4     0     0     0     0     0     0     0     0     0      0"
      ]
     },
     "execution_count": 2,
     "metadata": {},
     "output_type": "execute_result"
    }
   ],
   "source": [
    "amostragem = pandas.read_csv('Dataset/Ads_CTR_Optimisation.csv')\n",
    "amostragem.head()"
   ]
  },
  {
   "cell_type": "markdown",
   "id": "e177ef52",
   "metadata": {},
   "source": [
    "Abaixo verificamos pela linha mean (média), qual é o anúncio que tem a melhor perfomance de cliques, o anúncio 5 com 26,9%."
   ]
  },
  {
   "cell_type": "code",
   "execution_count": 3,
   "id": "8bb8ed9f",
   "metadata": {
    "scrolled": true
   },
   "outputs": [
    {
     "data": {
      "text/html": [
       "<div>\n",
       "<style scoped>\n",
       "    .dataframe tbody tr th:only-of-type {\n",
       "        vertical-align: middle;\n",
       "    }\n",
       "\n",
       "    .dataframe tbody tr th {\n",
       "        vertical-align: top;\n",
       "    }\n",
       "\n",
       "    .dataframe thead th {\n",
       "        text-align: right;\n",
       "    }\n",
       "</style>\n",
       "<table border=\"1\" class=\"dataframe\">\n",
       "  <thead>\n",
       "    <tr style=\"text-align: right;\">\n",
       "      <th></th>\n",
       "      <th>Ad 1</th>\n",
       "      <th>Ad 2</th>\n",
       "      <th>Ad 3</th>\n",
       "      <th>Ad 4</th>\n",
       "      <th>Ad 5</th>\n",
       "      <th>Ad 6</th>\n",
       "      <th>Ad 7</th>\n",
       "      <th>Ad 8</th>\n",
       "      <th>Ad 9</th>\n",
       "      <th>Ad 10</th>\n",
       "    </tr>\n",
       "  </thead>\n",
       "  <tbody>\n",
       "    <tr>\n",
       "      <th>count</th>\n",
       "      <td>10000.000000</td>\n",
       "      <td>10000.000000</td>\n",
       "      <td>10000.000000</td>\n",
       "      <td>10000.000000</td>\n",
       "      <td>10000.000000</td>\n",
       "      <td>10000.000000</td>\n",
       "      <td>10000.000000</td>\n",
       "      <td>10000.000000</td>\n",
       "      <td>10000.000000</td>\n",
       "      <td>10000.00000</td>\n",
       "    </tr>\n",
       "    <tr>\n",
       "      <th>mean</th>\n",
       "      <td>0.170300</td>\n",
       "      <td>0.129500</td>\n",
       "      <td>0.072800</td>\n",
       "      <td>0.119600</td>\n",
       "      <td>0.269500</td>\n",
       "      <td>0.012600</td>\n",
       "      <td>0.111200</td>\n",
       "      <td>0.209100</td>\n",
       "      <td>0.095200</td>\n",
       "      <td>0.04890</td>\n",
       "    </tr>\n",
       "    <tr>\n",
       "      <th>std</th>\n",
       "      <td>0.375915</td>\n",
       "      <td>0.335769</td>\n",
       "      <td>0.259821</td>\n",
       "      <td>0.324509</td>\n",
       "      <td>0.443722</td>\n",
       "      <td>0.111546</td>\n",
       "      <td>0.314395</td>\n",
       "      <td>0.406686</td>\n",
       "      <td>0.293506</td>\n",
       "      <td>0.21567</td>\n",
       "    </tr>\n",
       "    <tr>\n",
       "      <th>min</th>\n",
       "      <td>0.000000</td>\n",
       "      <td>0.000000</td>\n",
       "      <td>0.000000</td>\n",
       "      <td>0.000000</td>\n",
       "      <td>0.000000</td>\n",
       "      <td>0.000000</td>\n",
       "      <td>0.000000</td>\n",
       "      <td>0.000000</td>\n",
       "      <td>0.000000</td>\n",
       "      <td>0.00000</td>\n",
       "    </tr>\n",
       "    <tr>\n",
       "      <th>25%</th>\n",
       "      <td>0.000000</td>\n",
       "      <td>0.000000</td>\n",
       "      <td>0.000000</td>\n",
       "      <td>0.000000</td>\n",
       "      <td>0.000000</td>\n",
       "      <td>0.000000</td>\n",
       "      <td>0.000000</td>\n",
       "      <td>0.000000</td>\n",
       "      <td>0.000000</td>\n",
       "      <td>0.00000</td>\n",
       "    </tr>\n",
       "    <tr>\n",
       "      <th>50%</th>\n",
       "      <td>0.000000</td>\n",
       "      <td>0.000000</td>\n",
       "      <td>0.000000</td>\n",
       "      <td>0.000000</td>\n",
       "      <td>0.000000</td>\n",
       "      <td>0.000000</td>\n",
       "      <td>0.000000</td>\n",
       "      <td>0.000000</td>\n",
       "      <td>0.000000</td>\n",
       "      <td>0.00000</td>\n",
       "    </tr>\n",
       "    <tr>\n",
       "      <th>75%</th>\n",
       "      <td>0.000000</td>\n",
       "      <td>0.000000</td>\n",
       "      <td>0.000000</td>\n",
       "      <td>0.000000</td>\n",
       "      <td>1.000000</td>\n",
       "      <td>0.000000</td>\n",
       "      <td>0.000000</td>\n",
       "      <td>0.000000</td>\n",
       "      <td>0.000000</td>\n",
       "      <td>0.00000</td>\n",
       "    </tr>\n",
       "    <tr>\n",
       "      <th>max</th>\n",
       "      <td>1.000000</td>\n",
       "      <td>1.000000</td>\n",
       "      <td>1.000000</td>\n",
       "      <td>1.000000</td>\n",
       "      <td>1.000000</td>\n",
       "      <td>1.000000</td>\n",
       "      <td>1.000000</td>\n",
       "      <td>1.000000</td>\n",
       "      <td>1.000000</td>\n",
       "      <td>1.00000</td>\n",
       "    </tr>\n",
       "  </tbody>\n",
       "</table>\n",
       "</div>"
      ],
      "text/plain": [
       "               Ad 1          Ad 2          Ad 3          Ad 4          Ad 5  \\\n",
       "count  10000.000000  10000.000000  10000.000000  10000.000000  10000.000000   \n",
       "mean       0.170300      0.129500      0.072800      0.119600      0.269500   \n",
       "std        0.375915      0.335769      0.259821      0.324509      0.443722   \n",
       "min        0.000000      0.000000      0.000000      0.000000      0.000000   \n",
       "25%        0.000000      0.000000      0.000000      0.000000      0.000000   \n",
       "50%        0.000000      0.000000      0.000000      0.000000      0.000000   \n",
       "75%        0.000000      0.000000      0.000000      0.000000      1.000000   \n",
       "max        1.000000      1.000000      1.000000      1.000000      1.000000   \n",
       "\n",
       "               Ad 6          Ad 7          Ad 8          Ad 9        Ad 10  \n",
       "count  10000.000000  10000.000000  10000.000000  10000.000000  10000.00000  \n",
       "mean       0.012600      0.111200      0.209100      0.095200      0.04890  \n",
       "std        0.111546      0.314395      0.406686      0.293506      0.21567  \n",
       "min        0.000000      0.000000      0.000000      0.000000      0.00000  \n",
       "25%        0.000000      0.000000      0.000000      0.000000      0.00000  \n",
       "50%        0.000000      0.000000      0.000000      0.000000      0.00000  \n",
       "75%        0.000000      0.000000      0.000000      0.000000      0.00000  \n",
       "max        1.000000      1.000000      1.000000      1.000000      1.00000  "
      ]
     },
     "execution_count": 3,
     "metadata": {},
     "output_type": "execute_result"
    }
   ],
   "source": [
    "amostragem.describe()"
   ]
  },
  {
   "cell_type": "markdown",
   "id": "feb596ef",
   "metadata": {},
   "source": [
    "Nosso intuito agora então é utilizar o algoritmo de amostragem thompson para ir selecionando os anúncios que melhor performam e então aumentar as chances de mostrá-los na próxima rodada."
   ]
  },
  {
   "cell_type": "markdown",
   "id": "c9ea1f6b",
   "metadata": {},
   "source": [
    "---"
   ]
  },
  {
   "cell_type": "markdown",
   "id": "682f85fa",
   "metadata": {},
   "source": [
    "Inicializando as variáveis utilizadas nos scripts. A lista historico_sorteio é a que o algoritmo registrará as escolhas de qual anúncio tem a melhor performance."
   ]
  },
  {
   "cell_type": "code",
   "execution_count": 4,
   "id": "bb656b60",
   "metadata": {},
   "outputs": [],
   "source": [
    "rodadas = 1000\n",
    "conj_contexto = amostragem.columns\n",
    "\n",
    "matriz_alfa = [0] * len(conj_contexto)\n",
    "matriz_beta = [0] * len(conj_contexto)\n",
    "\n",
    "contexto_sorteado = []\n",
    "historico_sorteio = []"
   ]
  },
  {
   "cell_type": "code",
   "execution_count": 5,
   "id": "3579bc9a",
   "metadata": {},
   "outputs": [],
   "source": [
    "for rodada in range(rodadas):\n",
    "    contexto_sorteado = 0\n",
    "    maior_pontuacao_sorteio = 0\n",
    "    \n",
    "    for contexto in range(len(conj_contexto)):\n",
    "        pontuacao_sorteio = random.betavariate( matriz_alfa[contexto]+1, matriz_beta[contexto]+1 )\n",
    "        \n",
    "        if pontuacao_sorteio > maior_pontuacao_sorteio:\n",
    "            maior_pontuacao_sorteio = pontuacao_sorteio\n",
    "            \n",
    "            contexto_sorteado = contexto\n",
    "    \n",
    "    historico_sorteio.append(contexto_sorteado+1) # o +1 inserido ao final é para ajustar com o nome da coluna \n",
    "    \n",
    "    if amostragem.values[rodada, contexto_sorteado] == 1:\n",
    "        matriz_alfa[contexto_sorteado] += 1\n",
    "    else:\n",
    "        matriz_beta[contexto_sorteado] += 1\n"
   ]
  },
  {
   "cell_type": "markdown",
   "id": "c0e6b97a",
   "metadata": {},
   "source": [
    "Plotando o histórico das escolhas que o algoritmo fez ao longo das rodadas."
   ]
  },
  {
   "cell_type": "code",
   "execution_count": 6,
   "id": "078291fa",
   "metadata": {
    "scrolled": false
   },
   "outputs": [
    {
     "data": {
      "image/png": "[encoded data removed]",
      "text/plain": [
       "<Figure size 1080x432 with 1 Axes>"
      ]
     },
     "metadata": {
      "needs_background": "light"
     },
     "output_type": "display_data"
    }
   ],
   "source": [
    "plt.figure(figsize=(15,6))\n",
    "plt.hist(historico_sorteio)\n",
    "plt.title('Histograma dos anúncios sorteados',fontsize=16, fontweight='bold')\n",
    "plt.xlabel('Anúncios',fontsize=14)\n",
    "plt.ylabel('Número de vezes que cada 1 foi selecionado', fontsize=14)\n",
    "plt.show()"
   ]
  },
  {
   "cell_type": "markdown",
   "id": "29ea8932",
   "metadata": {},
   "source": [
    "# Conclusão \n",
    "# \n",
    "#### Pelo describe() da amostragem lá em cima identificamos anúncio 5, como sendo o melhor com 26,9% de chance de clique e o anúncio 5 como o segundo melhor com 20,9% de chance, o que concluímos pelo nosso algoritmo, com menos de 1000 rodadas de execução, conseguimos identificar os melhores anúncios a serem exibidos.\n",
    "## \n",
    "### Dessa forma concluimos que o algoritmo de amostragem Thompson se prova muito eficiente para a resolução dos problemas do tipo \"Multi-Armed-Bandit\"\n",
    "## "
   ]
  }
 ],
 "metadata": {
  "kernelspec": {
   "display_name": "Python 3",
   "language": "python",
   "name": "python3"
  },
  "language_info": {
   "codemirror_mode": {
    "name": "ipython",
    "version": 3
   },
   "file_extension": ".py",
   "mimetype": "text/x-python",
   "name": "python",
   "nbconvert_exporter": "python",
   "pygments_lexer": "ipython3",
   "version": "3.6.9"
  }
 },
 "nbformat": 4,
 "nbformat_minor": 5
}
