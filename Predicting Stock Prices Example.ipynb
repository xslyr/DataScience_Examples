{
 "cells": [
  {
   "cell_type": "code",
   "execution_count": 2,
   "id": "0484e684",
   "metadata": {
    "scrolled": true
   },
   "outputs": [],
   "source": [
    "import numpy as np\n",
    "import matplotlib.pyplot as plt\n",
    "import pandas as pd\n",
    "import pandas_datareader as web\n",
    "import datetime as dt\n",
    "\n",
    "from sklearn.preprocessing import MinMaxScaler\n",
    "from tensorflow.keras.models import Sequential\n",
    "from tensorflow.keras.layers import Dense, Dropout, LSTM"
   ]
  },
  {
   "cell_type": "code",
   "execution_count": 17,
   "id": "a947673a",
   "metadata": {},
   "outputs": [],
   "source": [
    "company='PETR4.SA'\n",
    "start = dt.datetime(2020,1,1)\n",
    "end = dt.datetime(2021,1,1)"
   ]
  },
  {
   "cell_type": "code",
   "execution_count": 18,
   "id": "3a2a256e",
   "metadata": {},
   "outputs": [],
   "source": [
    "data = web.DataReader(company,'yahoo',start,end)"
   ]
  },
  {
   "cell_type": "code",
   "execution_count": 19,
   "id": "03c95e4d",
   "metadata": {},
   "outputs": [],
   "source": [
    "scaler = MinMaxScaler(feature_range=(0,1))\n",
    "scaled_data = scaler.fit_transform(data['Close'].values.reshape(-1,1))"
   ]
  },
  {
   "cell_type": "code",
   "execution_count": 20,
   "id": "f7dd8ff2",
   "metadata": {},
   "outputs": [],
   "source": [
    "prediction_days = 60\n",
    "x_train = []\n",
    "y_train = []"
   ]
  },
  {
   "cell_type": "code",
   "execution_count": 21,
   "id": "012b74b6",
   "metadata": {},
   "outputs": [],
   "source": [
    "for x in range(prediction_days, len(scaled_data)):\n",
    "    x_train.append(scaled_data[x-prediction_days:x,0])\n",
    "    y_train.append(scaled_data[x,0])"
   ]
  },
  {
   "cell_type": "code",
   "execution_count": 22,
   "id": "0a3e54f2",
   "metadata": {},
   "outputs": [],
   "source": [
    "x_train, y_train = np.array(x_train), np.array(y_train)\n",
    "x_train = np.reshape(x_train, (x_train.shape[0], x_train.shape[1],1))"
   ]
  },
  {
   "cell_type": "code",
   "execution_count": 23,
   "id": "84918383",
   "metadata": {},
   "outputs": [],
   "source": [
    "model = Sequential()"
   ]
  },
  {
   "cell_type": "code",
   "execution_count": 24,
   "id": "56a163eb",
   "metadata": {},
   "outputs": [],
   "source": [
    "model.add(LSTM(units=50, return_sequences=True, input_shape=(x_train.shape[1],1)))\n",
    "model.add(Dropout(0.2))\n",
    "model.add(LSTM(units=50, return_sequences=True))\n",
    "model.add(Dropout(0.2))\n",
    "model.add(LSTM(units=50))\n",
    "model.add(Dropout(0.2))\n",
    "model.add(Dense(units=1))"
   ]
  },
  {
   "cell_type": "code",
   "execution_count": 25,
   "id": "e4f2cf3e",
   "metadata": {},
   "outputs": [],
   "source": [
    "model.compile(optimizer='adam',loss='mean_squared_error')"
   ]
  },
  {
   "cell_type": "code",
   "execution_count": 26,
   "id": "44623184",
   "metadata": {},
   "outputs": [
    {
     "name": "stdout",
     "output_type": "stream",
     "text": [
      "Epoch 1/25\n",
      "6/6 [==============================] - 5s 72ms/step - loss: 0.1652\n",
      "Epoch 2/25\n",
      "6/6 [==============================] - 0s 72ms/step - loss: 0.0316\n",
      "Epoch 3/25\n",
      "6/6 [==============================] - 0s 72ms/step - loss: 0.0146\n",
      "Epoch 4/25\n",
      "6/6 [==============================] - 0s 75ms/step - loss: 0.0137\n",
      "Epoch 5/25\n",
      "6/6 [==============================] - 0s 74ms/step - loss: 0.0113\n",
      "Epoch 6/25\n",
      "6/6 [==============================] - 0s 74ms/step - loss: 0.0125\n",
      "Epoch 7/25\n",
      "6/6 [==============================] - 1s 85ms/step - loss: 0.0098\n",
      "Epoch 8/25\n",
      "6/6 [==============================] - 1s 88ms/step - loss: 0.0091\n",
      "Epoch 9/25\n",
      "6/6 [==============================] - 0s 72ms/step - loss: 0.0082\n",
      "Epoch 10/25\n",
      "6/6 [==============================] - 0s 73ms/step - loss: 0.0084\n",
      "Epoch 11/25\n",
      "6/6 [==============================] - 0s 79ms/step - loss: 0.0091\n",
      "Epoch 12/25\n",
      "6/6 [==============================] - 0s 77ms/step - loss: 0.0082\n",
      "Epoch 13/25\n",
      "6/6 [==============================] - 0s 75ms/step - loss: 0.0085\n",
      "Epoch 14/25\n",
      "6/6 [==============================] - 1s 85ms/step - loss: 0.0080\n",
      "Epoch 15/25\n",
      "6/6 [==============================] - 1s 89ms/step - loss: 0.0080\n",
      "Epoch 16/25\n",
      "6/6 [==============================] - 0s 73ms/step - loss: 0.0071\n",
      "Epoch 17/25\n",
      "6/6 [==============================] - 0s 75ms/step - loss: 0.0071\n",
      "Epoch 18/25\n",
      "6/6 [==============================] - 1s 91ms/step - loss: 0.0070\n",
      "Epoch 19/25\n",
      "6/6 [==============================] - 0s 83ms/step - loss: 0.0069\n",
      "Epoch 20/25\n",
      "6/6 [==============================] - 1s 83ms/step - loss: 0.0057\n",
      "Epoch 21/25\n",
      "6/6 [==============================] - 0s 80ms/step - loss: 0.0065\n",
      "Epoch 22/25\n",
      "6/6 [==============================] - 1s 84ms/step - loss: 0.0073\n",
      "Epoch 23/25\n",
      "6/6 [==============================] - 1s 85ms/step - loss: 0.0061\n",
      "Epoch 24/25\n",
      "6/6 [==============================] - 1s 81ms/step - loss: 0.0067\n",
      "Epoch 25/25\n",
      "6/6 [==============================] - 0s 83ms/step - loss: 0.0061\n"
     ]
    },
    {
     "data": {
      "text/plain": [
       "<tensorflow.python.keras.callbacks.History at 0x7f91adb51b70>"
      ]
     },
     "execution_count": 26,
     "metadata": {},
     "output_type": "execute_result"
    }
   ],
   "source": [
    "model.fit(x_train, y_train, epochs=25, batch_size=32)"
   ]
  },
  {
   "cell_type": "code",
   "execution_count": 27,
   "id": "4155555a",
   "metadata": {},
   "outputs": [],
   "source": [
    "test_start = dt.datetime(2021,1,1)\n",
    "test_end = dt.datetime.now()\n",
    "\n",
    "test_data = web.DataReader(company,'yahoo',test_start,test_end)"
   ]
  },
  {
   "cell_type": "code",
   "execution_count": 28,
   "id": "ef5b2c6c",
   "metadata": {},
   "outputs": [],
   "source": [
    "actual_prices = test_data['Close'].values"
   ]
  },
  {
   "cell_type": "code",
   "execution_count": 29,
   "id": "08c3ad37",
   "metadata": {},
   "outputs": [],
   "source": [
    "total_dataset = pd.concat((data['Close'], test_data['Close']),axis=0)"
   ]
  },
  {
   "cell_type": "code",
   "execution_count": 31,
   "id": "d754fe15",
   "metadata": {},
   "outputs": [],
   "source": [
    "model_inputs = total_dataset[len(total_dataset)-len(test_data) - prediction_days:].values\n",
    "model_inputs = model_inputs.reshape(-1,1) \n",
    "model_inputs = scaler.transform(model_inputs)"
   ]
  },
  {
   "cell_type": "code",
   "execution_count": 32,
   "id": "00f99bc5",
   "metadata": {},
   "outputs": [],
   "source": [
    "x_test = []\n",
    "for x in range(prediction_days, len(model_inputs)):\n",
    "    x_test.append(model_inputs[x-prediction_days:x,0])"
   ]
  },
  {
   "cell_type": "code",
   "execution_count": 33,
   "id": "88d2515a",
   "metadata": {},
   "outputs": [],
   "source": [
    "x_test = np.array(x_test)\n",
    "x_test = np.reshape(x_test, (x_test.shape[0], x_test.shape[1],1))"
   ]
  },
  {
   "cell_type": "code",
   "execution_count": 35,
   "id": "4e835d40",
   "metadata": {},
   "outputs": [],
   "source": [
    "predicted_prices = model.predict(x_test)\n",
    "predicted_prices = scaler.inverse_transform(predicted_prices)"
   ]
  },
  {
   "cell_type": "code",
   "execution_count": 37,
   "id": "16d51a4a",
   "metadata": {},
   "outputs": [
    {
     "data": {
      "image/png": "[encoded data removed]",
      "text/plain": [
       "<Figure size 432x288 with 1 Axes>"
      ]
     },
     "metadata": {
      "needs_background": "light"
     },
     "output_type": "display_data"
    }
   ],
   "source": [
    "plt.plot(actual_prices, color='black', label=f'Actual {company} Prices')\n",
    "plt.plot(predicted_prices, color='green', label=f'Predicted {company} Prices')\n",
    "plt.title(f'{company} Share Price')\n",
    "plt.xlabel('Time')\n",
    "plt.ylabel(f'{company} Share Price')\n",
    "plt.legend()\n",
    "plt.show()"
   ]
  }
 ],
 "metadata": {
  "kernelspec": {
   "display_name": "Python 3",
   "language": "python",
   "name": "python3"
  },
  "language_info": {
   "codemirror_mode": {
    "name": "ipython",
    "version": 3
   },
   "file_extension": ".py",
   "mimetype": "text/x-python",
   "name": "python",
   "nbconvert_exporter": "python",
   "pygments_lexer": "ipython3",
   "version": "3.6.9"
  }
 },
 "nbformat": 4,
 "nbformat_minor": 5
}
