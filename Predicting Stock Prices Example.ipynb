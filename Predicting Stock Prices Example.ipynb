{
 "cells": [
  {
   "cell_type": "code",
   "execution_count": 41,
   "id": "f710cb30",
   "metadata": {
    "scrolled": true
   },
   "outputs": [],
   "source": [
    "import numpy as np\n",
    "import matplotlib.pyplot as plt\n",
    "import pandas as pd\n",
    "import pandas_datareader as web\n",
    "import datetime as dt\n",
    "\n",
    "from sklearn.preprocessing import MinMaxScaler\n",
    "from tensorflow.keras.models import Sequential\n",
    "from tensorflow.keras.layers import Dense, Dropout, LSTM"
   ]
  },
  {
   "cell_type": "code",
   "execution_count": 42,
   "id": "76e49a24",
   "metadata": {},
   "outputs": [],
   "source": [
    "company='PETR4.SA'\n",
    "start = dt.datetime(2018,1,1)\n",
    "end = dt.datetime(2021,1,1)"
   ]
  },
  {
   "cell_type": "code",
   "execution_count": 43,
   "id": "1c92b883",
   "metadata": {},
   "outputs": [],
   "source": [
    "data = web.DataReader(company,'yahoo',start,end)"
   ]
  },
  {
   "cell_type": "code",
   "execution_count": 44,
   "id": "b70caa96",
   "metadata": {},
   "outputs": [],
   "source": [
    "scaler = MinMaxScaler(feature_range=(0,1))\n",
    "scaled_data = scaler.fit_transform(data['Close'].values.reshape(-1,1))"
   ]
  },
  {
   "cell_type": "code",
   "execution_count": 45,
   "id": "5b4aba18",
   "metadata": {},
   "outputs": [],
   "source": [
    "prediction_days = 60\n",
    "x_train = []\n",
    "y_train = []"
   ]
  },
  {
   "cell_type": "code",
   "execution_count": 46,
   "id": "ea440006",
   "metadata": {},
   "outputs": [],
   "source": [
    "for x in range(prediction_days, len(scaled_data)):\n",
    "    x_train.append(scaled_data[x-prediction_days:x,0])\n",
    "    y_train.append(scaled_data[x,0])"
   ]
  },
  {
   "cell_type": "code",
   "execution_count": 47,
   "id": "4004bcce",
   "metadata": {},
   "outputs": [],
   "source": [
    "x_train, y_train = np.array(x_train), np.array(y_train)\n",
    "x_train = np.reshape(x_train, (x_train.shape[0], x_train.shape[1],1))"
   ]
  },
  {
   "cell_type": "code",
   "execution_count": 48,
   "id": "67ad7096",
   "metadata": {},
   "outputs": [],
   "source": [
    "model = Sequential()"
   ]
  },
  {
   "cell_type": "code",
   "execution_count": 49,
   "id": "534bbe94",
   "metadata": {},
   "outputs": [],
   "source": [
    "model.add(LSTM(units=50, return_sequences=True, input_shape=(x_train.shape[1],1)))\n",
    "model.add(Dropout(0.2))\n",
    "model.add(LSTM(units=50, return_sequences=True))\n",
    "model.add(Dropout(0.2))\n",
    "model.add(LSTM(units=50))\n",
    "model.add(Dropout(0.2))\n",
    "model.add(Dense(units=1))"
   ]
  },
  {
   "cell_type": "code",
   "execution_count": 50,
   "id": "527ea109",
   "metadata": {},
   "outputs": [],
   "source": [
    "model.compile(optimizer='adam',loss='mean_squared_error')"
   ]
  },
  {
   "cell_type": "code",
   "execution_count": 51,
   "id": "b20a4d14",
   "metadata": {},
   "outputs": [
    {
     "name": "stdout",
     "output_type": "stream",
     "text": [
      "Epoch 1/25\n",
      "22/22 [==============================] - 6s 73ms/step - loss: 0.1063\n",
      "Epoch 2/25\n",
      "22/22 [==============================] - 2s 79ms/step - loss: 0.0244\n",
      "Epoch 3/25\n",
      "22/22 [==============================] - 2s 75ms/step - loss: 0.0206\n",
      "Epoch 4/25\n",
      "22/22 [==============================] - 2s 77ms/step - loss: 0.0180\n",
      "Epoch 5/25\n",
      "22/22 [==============================] - 2s 73ms/step - loss: 0.0157\n",
      "Epoch 6/25\n",
      "22/22 [==============================] - 2s 87ms/step - loss: 0.0156\n",
      "Epoch 7/25\n",
      "22/22 [==============================] - 2s 77ms/step - loss: 0.0145\n",
      "Epoch 8/25\n",
      "22/22 [==============================] - 2s 71ms/step - loss: 0.0120\n",
      "Epoch 9/25\n",
      "22/22 [==============================] - 2s 72ms/step - loss: 0.0120\n",
      "Epoch 10/25\n",
      "22/22 [==============================] - 2s 72ms/step - loss: 0.0106\n",
      "Epoch 11/25\n",
      "22/22 [==============================] - 2s 86ms/step - loss: 0.0116\n",
      "Epoch 12/25\n",
      "22/22 [==============================] - 2s 76ms/step - loss: 0.0098\n",
      "Epoch 13/25\n",
      "22/22 [==============================] - 2s 72ms/step - loss: 0.0096\n",
      "Epoch 14/25\n",
      "22/22 [==============================] - 2s 72ms/step - loss: 0.0094\n",
      "Epoch 15/25\n",
      "22/22 [==============================] - 2s 72ms/step - loss: 0.0091\n",
      "Epoch 16/25\n",
      "22/22 [==============================] - 2s 72ms/step - loss: 0.0090\n",
      "Epoch 17/25\n",
      "22/22 [==============================] - 2s 72ms/step - loss: 0.0093\n",
      "Epoch 18/25\n",
      "22/22 [==============================] - 2s 72ms/step - loss: 0.0083\n",
      "Epoch 19/25\n",
      "22/22 [==============================] - 2s 78ms/step - loss: 0.0093\n",
      "Epoch 20/25\n",
      "22/22 [==============================] - 2s 79ms/step - loss: 0.0083\n",
      "Epoch 21/25\n",
      "22/22 [==============================] - 2s 79ms/step - loss: 0.0086\n",
      "Epoch 22/25\n",
      "22/22 [==============================] - 2s 78ms/step - loss: 0.0077\n",
      "Epoch 23/25\n",
      "22/22 [==============================] - 2s 75ms/step - loss: 0.0096\n",
      "Epoch 24/25\n",
      "22/22 [==============================] - 2s 76ms/step - loss: 0.0074\n",
      "Epoch 25/25\n",
      "22/22 [==============================] - 2s 77ms/step - loss: 0.0075\n"
     ]
    },
    {
     "data": {
      "text/plain": [
       "<tensorflow.python.keras.callbacks.History at 0x7f91ac2253c8>"
      ]
     },
     "execution_count": 51,
     "metadata": {},
     "output_type": "execute_result"
    }
   ],
   "source": [
    "model.fit(x_train, y_train, epochs=25, batch_size=32)"
   ]
  },
  {
   "cell_type": "code",
   "execution_count": 52,
   "id": "3b9bdcd6",
   "metadata": {},
   "outputs": [],
   "source": [
    "test_start = dt.datetime(2021,1,1)\n",
    "test_end = dt.datetime.now()\n",
    "test_data = web.DataReader(company,'yahoo',test_start,test_end)"
   ]
  },
  {
   "cell_type": "code",
   "execution_count": 53,
   "id": "46f8da90",
   "metadata": {},
   "outputs": [],
   "source": [
    "actual_prices = test_data['Close'].values\n",
    "total_dataset = pd.concat((data['Close'], test_data['Close']),axis=0)"
   ]
  },
  {
   "cell_type": "code",
   "execution_count": 54,
   "id": "73318e81",
   "metadata": {},
   "outputs": [],
   "source": [
    "model_inputs = total_dataset[len(total_dataset)-len(test_data) - prediction_days:].values\n",
    "model_inputs = model_inputs.reshape(-1,1) \n",
    "model_inputs = scaler.transform(model_inputs)"
   ]
  },
  {
   "cell_type": "code",
   "execution_count": 55,
   "id": "a3b64dbe",
   "metadata": {},
   "outputs": [],
   "source": [
    "x_test = []\n",
    "for x in range(prediction_days, len(model_inputs)):\n",
    "    x_test.append(model_inputs[x-prediction_days:x,0])"
   ]
  },
  {
   "cell_type": "code",
   "execution_count": 56,
   "id": "6bc66c60",
   "metadata": {},
   "outputs": [],
   "source": [
    "x_test = np.array(x_test)\n",
    "x_test = np.reshape(x_test, (x_test.shape[0], x_test.shape[1],1))"
   ]
  },
  {
   "cell_type": "code",
   "execution_count": 57,
   "id": "21aa8dd0",
   "metadata": {},
   "outputs": [],
   "source": [
    "predicted_prices = model.predict(x_test)\n",
    "predicted_prices = scaler.inverse_transform(predicted_prices)"
   ]
  },
  {
   "cell_type": "code",
   "execution_count": 58,
   "id": "33d9801c",
   "metadata": {
    "scrolled": true
   },
   "outputs": [
    {
     "data": {
      "image/png": "[encoded data removed]",
      "text/plain": [
       "<Figure size 432x288 with 1 Axes>"
      ]
     },
     "metadata": {
      "needs_background": "light"
     },
     "output_type": "display_data"
    }
   ],
   "source": [
    "plt.plot(actual_prices, color='black', label=f'Actual {company} Prices')\n",
    "plt.plot(predicted_prices, color='green', label=f'Predicted {company} Prices')\n",
    "plt.title(f'{company} Share Price')\n",
    "plt.xlabel('Time')\n",
    "plt.ylabel(f'{company} Share Price')\n",
    "plt.legend()\n",
    "plt.show()"
   ]
  },
  {
   "cell_type": "code",
   "execution_count": 59,
   "id": "d234d5a2",
   "metadata": {},
   "outputs": [],
   "source": [
    "real_data = [model_inputs[len(model_inputs)+1 -prediction_days: len(model_inputs+1), 0]]\n",
    "real_data = np.array(real_data)\n",
    "real_data = np.reshape(real_data, (real_data.shape[0], real_data.shape[1],1))"
   ]
  },
  {
   "cell_type": "code",
   "execution_count": 73,
   "id": "cecd3177",
   "metadata": {},
   "outputs": [],
   "source": [
    "prediction = model.predict(real_data)\n",
    "prediction = scaler.inverse_transform(prediction)"
   ]
  },
  {
   "cell_type": "code",
   "execution_count": 90,
   "id": "8d742444",
   "metadata": {},
   "outputs": [
    {
     "name": "stdout",
     "output_type": "stream",
     "text": [
      "The last price was registered at 11/06/2021 is R$28.57 and the price prediction for next day is R$29.10\n"
     ]
    }
   ],
   "source": [
    "print('The last price was registered at {} is R${:.2f} and the price prediction for next day is R${:.2f}'.format(test_data.iloc[-1,:].name.strftime('%d/%m/%Y'),test_data['Close'][-1],prediction[0][0]))"
   ]
  }
 ],
 "metadata": {
  "kernelspec": {
   "display_name": "Python 3",
   "language": "python",
   "name": "python3"
  },
  "language_info": {
   "codemirror_mode": {
    "name": "ipython",
    "version": 3
   },
   "file_extension": ".py",
   "mimetype": "text/x-python",
   "name": "python",
   "nbconvert_exporter": "python",
   "pygments_lexer": "ipython3",
   "version": "3.6.9"
  }
 },
 "nbformat": 4,
 "nbformat_minor": 5
}
