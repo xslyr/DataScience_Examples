{
 "cells": [
  {
   "cell_type": "markdown",
   "id": "b478dc84",
   "metadata": {},
   "source": [
    "# Usage Example for our html2df Python Libraries"
   ]
  },
  {
   "cell_type": "markdown",
   "id": "e9c83c16",
   "metadata": {},
   "source": [
    "#### Just importing some Libraries"
   ]
  },
  {
   "cell_type": "code",
   "execution_count": 2,
   "id": "772f6398",
   "metadata": {},
   "outputs": [],
   "source": [
    "import requests\n",
    "from bs4 import BeautifulSoup\n",
    "import  html2df as hd"
   ]
  },
  {
   "cell_type": "markdown",
   "id": "1d2d2975",
   "metadata": {},
   "source": [
    "#### requesting some page for our example"
   ]
  },
  {
   "cell_type": "code",
   "execution_count": 3,
   "id": "69a44820",
   "metadata": {},
   "outputs": [],
   "source": [
    "html_source = requests.get('https://br.advfn.com/bolsa-de-valores/bovespa/indice-bovespa-IBOV/cotacao')"
   ]
  },
  {
   "cell_type": "markdown",
   "id": "d383b9bf",
   "metadata": {},
   "source": [
    "#### instantiating the beautifulsoup parser"
   ]
  },
  {
   "cell_type": "code",
   "execution_count": 4,
   "id": "c2e06bfa",
   "metadata": {},
   "outputs": [],
   "source": [
    "bs_parser = BeautifulSoup(html_source.text, 'html.parser')"
   ]
  },
  {
   "cell_type": "markdown",
   "id": "db87bdd9",
   "metadata": {},
   "source": [
    "#### selecting our table to transform into dataframe"
   ]
  },
  {
   "cell_type": "code",
   "execution_count": 5,
   "id": "f666728a",
   "metadata": {},
   "outputs": [],
   "source": [
    "table_tags = bs_parser.find_all('table',id='id_period_quote')"
   ]
  },
  {
   "cell_type": "markdown",
   "id": "65ac75ee",
   "metadata": {},
   "source": [
    "#### here is a simple call to convert "
   ]
  },
  {
   "cell_type": "code",
   "execution_count": 6,
   "id": "32fea2d6",
   "metadata": {},
   "outputs": [],
   "source": [
    "my_dataframe = hd.DfCreator(html= str(table_tags[0]) )"
   ]
  },
  {
   "cell_type": "markdown",
   "id": "1876f0a5",
   "metadata": {},
   "source": [
    "#### showing results"
   ]
  },
  {
   "cell_type": "code",
   "execution_count": 7,
   "id": "09e6e743",
   "metadata": {},
   "outputs": [
    {
     "data": {
      "text/html": [
       "<div>\n",
       "<style scoped>\n",
       "    .dataframe tbody tr th:only-of-type {\n",
       "        vertical-align: middle;\n",
       "    }\n",
       "\n",
       "    .dataframe tbody tr th {\n",
       "        vertical-align: top;\n",
       "    }\n",
       "\n",
       "    .dataframe thead th {\n",
       "        text-align: right;\n",
       "    }\n",
       "</style>\n",
       "<table border=\"1\" class=\"dataframe\">\n",
       "  <thead>\n",
       "    <tr style=\"text-align: right;\">\n",
       "      <th></th>\n",
       "      <th>Período</th>\n",
       "      <th>Abe</th>\n",
       "      <th>Máx.</th>\n",
       "      <th>Mín.</th>\n",
       "      <th>Preço Méd.</th>\n",
       "      <th>Vol Méd.</th>\n",
       "      <th>Var</th>\n",
       "      <th>%</th>\n",
       "    </tr>\n",
       "  </thead>\n",
       "  <tbody>\n",
       "    <tr>\n",
       "      <th>0</th>\n",
       "      <td>1 Semana</td>\n",
       "      <td>126.218,42</td>\n",
       "      <td>131.190,30</td>\n",
       "      <td>126.218,42</td>\n",
       "      <td>129.612,15</td>\n",
       "      <td>648.568.925</td>\n",
       "      <td>3.568,69</td>\n",
       "      <td>2,83%</td>\n",
       "    </tr>\n",
       "    <tr>\n",
       "      <th>1</th>\n",
       "      <td>1 Mês</td>\n",
       "      <td>121.903,82</td>\n",
       "      <td>131.190,30</td>\n",
       "      <td>119.458,43</td>\n",
       "      <td>124.775,40</td>\n",
       "      <td>545.220.639</td>\n",
       "      <td>7.883,29</td>\n",
       "      <td>6,47%</td>\n",
       "    </tr>\n",
       "    <tr>\n",
       "      <th>2</th>\n",
       "      <td>3 Meses</td>\n",
       "      <td>114.845,17</td>\n",
       "      <td>131.190,30</td>\n",
       "      <td>113.305,43</td>\n",
       "      <td>120.925,73</td>\n",
       "      <td>498.429.325</td>\n",
       "      <td>14.941,94</td>\n",
       "      <td>13,01%</td>\n",
       "    </tr>\n",
       "    <tr>\n",
       "      <th>3</th>\n",
       "      <td>6 Meses</td>\n",
       "      <td>113.589,77</td>\n",
       "      <td>131.190,30</td>\n",
       "      <td>107.319,15</td>\n",
       "      <td>118.522,04</td>\n",
       "      <td>538.501.783</td>\n",
       "      <td>16.197,34</td>\n",
       "      <td>14,26%</td>\n",
       "    </tr>\n",
       "    <tr>\n",
       "      <th>4</th>\n",
       "      <td>1 Ano</td>\n",
       "      <td>94.640,43</td>\n",
       "      <td>131.190,30</td>\n",
       "      <td>90.147,92</td>\n",
       "      <td>109.602,10</td>\n",
       "      <td>497.669.480</td>\n",
       "      <td>35.146,68</td>\n",
       "      <td>37,14%</td>\n",
       "    </tr>\n",
       "    <tr>\n",
       "      <th>5</th>\n",
       "      <td>3 Anos</td>\n",
       "      <td>73.847,88</td>\n",
       "      <td>131.190,30</td>\n",
       "      <td>61.690,53</td>\n",
       "      <td>98.499,61</td>\n",
       "      <td>426.199.969</td>\n",
       "      <td>55.939,23</td>\n",
       "      <td>75,75%</td>\n",
       "    </tr>\n",
       "    <tr>\n",
       "      <th>6</th>\n",
       "      <td>5 Anos</td>\n",
       "      <td>50.490,11</td>\n",
       "      <td>131.190,30</td>\n",
       "      <td>48.066,67</td>\n",
       "      <td>88.296,30</td>\n",
       "      <td>396.076.497</td>\n",
       "      <td>79.297,00</td>\n",
       "      <td>157,05%</td>\n",
       "    </tr>\n",
       "  </tbody>\n",
       "</table>\n",
       "</div>"
      ],
      "text/plain": [
       "    Período         Abe        Máx.        Mín.  Preço Méd.     Vol Méd.  \\\n",
       "0  1 Semana  126.218,42  131.190,30  126.218,42  129.612,15  648.568.925   \n",
       "1     1 Mês  121.903,82  131.190,30  119.458,43  124.775,40  545.220.639   \n",
       "2   3 Meses  114.845,17  131.190,30  113.305,43  120.925,73  498.429.325   \n",
       "3   6 Meses  113.589,77  131.190,30  107.319,15  118.522,04  538.501.783   \n",
       "4     1 Ano   94.640,43  131.190,30   90.147,92  109.602,10  497.669.480   \n",
       "5    3 Anos   73.847,88  131.190,30   61.690,53   98.499,61  426.199.969   \n",
       "6    5 Anos   50.490,11  131.190,30   48.066,67   88.296,30  396.076.497   \n",
       "\n",
       "         Var        %  \n",
       "0   3.568,69    2,83%  \n",
       "1   7.883,29    6,47%  \n",
       "2  14.941,94   13,01%  \n",
       "3  16.197,34   14,26%  \n",
       "4  35.146,68   37,14%  \n",
       "5  55.939,23   75,75%  \n",
       "6  79.297,00  157,05%  "
      ]
     },
     "metadata": {},
     "output_type": "display_data"
    }
   ],
   "source": [
    "display( my_dataframe )"
   ]
  }
 ],
 "metadata": {
  "kernelspec": {
   "display_name": "Python 3",
   "language": "python",
   "name": "python3"
  },
  "language_info": {
   "codemirror_mode": {
    "name": "ipython",
    "version": 3
   },
   "file_extension": ".py",
   "mimetype": "text/x-python",
   "name": "python",
   "nbconvert_exporter": "python",
   "pygments_lexer": "ipython3",
   "version": "3.6.9"
  }
 },
 "nbformat": 4,
 "nbformat_minor": 5
}
